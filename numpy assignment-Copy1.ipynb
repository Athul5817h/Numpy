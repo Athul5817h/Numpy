{
 "cells": [
  {
   "cell_type": "markdown",
   "id": "5b6d214a-77bb-4f04-b942-ea46c5bab2cb",
   "metadata": {},
   "source": [
    "Theoretical Questions:"
   ]
  },
  {
   "cell_type": "code",
   "execution_count": 3,
   "id": "9ebe6617-6249-424e-99ae-aa25f7d42e31",
   "metadata": {},
   "outputs": [],
   "source": [
    "# 1. Explain the purpose and advantages of NumPy in scientific computing and data analysis. How does itenhance Python's capabilities for numerical operations?"
   ]
  },
  {
   "cell_type": "markdown",
   "id": "d3e76a87-138b-42bb-a713-804c55e4cad1",
   "metadata": {},
   "source": [
    "NumPy (Numerical Python) is a foundational package for scientific computing and data analysis in Python. It provides support for large, multi-dimensional arrays and matrices, along with a collection of mathematical functions to operate on these arrays efficiently.\n",
    "Advantages:\n",
    "a powerful N - Dimensional array object\n",
    "Sophisticated functions\n",
    "Tools for intertgrating c/c++ and fortran code"
   ]
  },
  {
   "cell_type": "code",
   "execution_count": null,
   "id": "c62b0a2c-8e5f-4f6b-96ae-93b41c8c4db6",
   "metadata": {},
   "outputs": [],
   "source": [
    "# 2. Compare and contrast np.mean() and np.average() functions in NumPy. When would you use one over theother?"
   ]
  },
  {
   "cell_type": "markdown",
   "id": "bbb519e5-761e-4ec2-9885-f4c79ac0c667",
   "metadata": {},
   "source": [
    "The np.mean() function calculates the arithmetic mean (simple average) of the elements in an array or along a specified axis.\n",
    "The np.average() function computes the weighted average of the elements in an array or along a specified axis."
   ]
  },
  {
   "cell_type": "code",
   "execution_count": 8,
   "id": "5406fde8-916f-44b2-a2a4-86d4569254cd",
   "metadata": {},
   "outputs": [],
   "source": [
    "# 3. Describe the methods for reversing a NumPy array along different axes. Provide examples for 1D and 2D arrays."
   ]
  },
  {
   "cell_type": "code",
   "execution_count": 14,
   "id": "1067b684-55cb-4d9a-a8a2-dc84632e1149",
   "metadata": {},
   "outputs": [
    {
     "data": {
      "text/plain": [
       "array([5, 4, 3, 2, 1])"
      ]
     },
     "execution_count": 14,
     "metadata": {},
     "output_type": "execute_result"
    }
   ],
   "source": [
    "#for 1D\n",
    "import numpy as np\n",
    "arr1 = np.array([1,2,3,4,5])\n",
    "arr1[::-1]"
   ]
  },
  {
   "cell_type": "code",
   "execution_count": 16,
   "id": "6ecc2705-62e5-42d6-b093-ee6519c8b77a",
   "metadata": {},
   "outputs": [
    {
     "data": {
      "text/plain": [
       "array([[1, 2, 4, 5],\n",
       "       [1, 5, 7, 8],\n",
       "       [1, 6, 7, 4]])"
      ]
     },
     "execution_count": 16,
     "metadata": {},
     "output_type": "execute_result"
    }
   ],
   "source": [
    "#for 2D\n",
    "arr2 = np.array([[1,2,4,5],[1,5,7,8],[1,6,7,4]])\n",
    "arr2"
   ]
  },
  {
   "cell_type": "code",
   "execution_count": 18,
   "id": "619576e7-9718-453e-bfca-fcf1b3d3d08e",
   "metadata": {},
   "outputs": [],
   "source": [
    "#by row wise"
   ]
  },
  {
   "cell_type": "code",
   "execution_count": 26,
   "id": "35ad509f-bf04-4b77-85db-eadf39aab929",
   "metadata": {},
   "outputs": [
    {
     "data": {
      "text/plain": [
       "array([[1, 6, 7, 4],\n",
       "       [1, 5, 7, 8],\n",
       "       [1, 2, 4, 5]])"
      ]
     },
     "execution_count": 26,
     "metadata": {},
     "output_type": "execute_result"
    }
   ],
   "source": [
    "arr2[::-1,:]"
   ]
  },
  {
   "cell_type": "code",
   "execution_count": 28,
   "id": "18810bce-a695-4917-a1f1-8485bb4e4ce2",
   "metadata": {},
   "outputs": [],
   "source": [
    "# by column wise"
   ]
  },
  {
   "cell_type": "code",
   "execution_count": 30,
   "id": "69392a70-2c65-47c2-90ef-76d2b35a6005",
   "metadata": {},
   "outputs": [
    {
     "data": {
      "text/plain": [
       "array([[5, 4, 2, 1],\n",
       "       [8, 7, 5, 1],\n",
       "       [4, 7, 6, 1]])"
      ]
     },
     "execution_count": 30,
     "metadata": {},
     "output_type": "execute_result"
    }
   ],
   "source": [
    "arr2[:,::-1]"
   ]
  },
  {
   "cell_type": "code",
   "execution_count": 37,
   "id": "14a59362-806f-45ab-b236-3f50047b19d2",
   "metadata": {},
   "outputs": [],
   "source": [
    "# 4. How can you determine the data type of elements in a NumPy array? Discuss the importance of data types in memory management and performance"
   ]
  },
  {
   "cell_type": "code",
   "execution_count": 39,
   "id": "9dcdc966-251d-41ad-9e92-55b4e5bb07ae",
   "metadata": {},
   "outputs": [
    {
     "data": {
      "text/plain": [
       "array([1, 2, 3, 4, 5])"
      ]
     },
     "execution_count": 39,
     "metadata": {},
     "output_type": "execute_result"
    }
   ],
   "source": [
    "ar = np.array([1,2,3,4,5])\n",
    "ar"
   ]
  },
  {
   "cell_type": "code",
   "execution_count": 41,
   "id": "27f4b54f-d21e-4cfc-a0bb-49413ebb9003",
   "metadata": {},
   "outputs": [
    {
     "data": {
      "text/plain": [
       "dtype('int32')"
      ]
     },
     "execution_count": 41,
     "metadata": {},
     "output_type": "execute_result"
    }
   ],
   "source": [
    "ar.dtype"
   ]
  },
  {
   "cell_type": "markdown",
   "id": "6ce8f52f-1989-425f-8005-6484b617ff76",
   "metadata": {},
   "source": [
    "memory allocation\n",
    "Efficient use of cache\n",
    "impact on data alignment\n",
    "compution speed are the factors dtype in numpy"
   ]
  },
  {
   "cell_type": "code",
   "execution_count": 44,
   "id": "11e093ca-4ab5-4cec-9421-59ed8c28ef4e",
   "metadata": {},
   "outputs": [],
   "source": [
    "#5 .Define ndarrays in NumPy and explain their key features. How do they differ from standard Python lists?"
   ]
  },
  {
   "cell_type": "markdown",
   "id": "bc29e8d8-3f5e-46b9-9838-bc60060a355a",
   "metadata": {},
   "source": [
    "ndarray means n - dimensional array\n",
    "Capability of the multidimensional array\n",
    "containing homogenous data \n",
    "fixed size\n",
    "efficient memory storage\n",
    "broadcasting\n"
   ]
  },
  {
   "cell_type": "code",
   "execution_count": 48,
   "id": "51c4b2ba-ef90-49e0-8f58-b6529bf347ac",
   "metadata": {},
   "outputs": [],
   "source": [
    "#6 .Analyze the performance benefits of NumPy arrays over Python lists for large-scale numerical operations."
   ]
  },
  {
   "cell_type": "markdown",
   "id": "00f48946-3698-4dd3-a496-b4c822ef522f",
   "metadata": {},
   "source": [
    "for large-scale numerical operations, NumPy arrays provide significant advantages in terms of memory efficiency, performance, and ease of use compared to Python lists. This makes NumPy the preferred choice for numerical computing in Python."
   ]
  },
  {
   "cell_type": "code",
   "execution_count": 51,
   "id": "aa0e45b9-4fef-42fb-b53f-ec44105d3f44",
   "metadata": {},
   "outputs": [],
   "source": [
    "# 7. Compare vstack() and hstack() functions in NumPy. Provide examples demonstrating their usage and output."
   ]
  },
  {
   "cell_type": "markdown",
   "id": "80461c5f-4ef5-470e-9809-9dde79561f49",
   "metadata": {},
   "source": [
    "Vstack is vertical stack for concatinacting array vertically\n",
    "for 1d array output is 2d array along first axis = 0"
   ]
  },
  {
   "cell_type": "code",
   "execution_count": 56,
   "id": "6bb30a46-1c67-446a-9985-89bb3f66adc8",
   "metadata": {},
   "outputs": [
    {
     "data": {
      "text/plain": [
       "array([[1, 2, 3, 4],\n",
       "       [5, 6, 7, 8]])"
      ]
     },
     "execution_count": 56,
     "metadata": {},
     "output_type": "execute_result"
    }
   ],
   "source": [
    "arr1 = np.array([1,2,3,4])\n",
    "arr2 = np.array([5,6,7,8])\n",
    "\n",
    "out = np.vstack((arr1,arr2))\n",
    "out"
   ]
  },
  {
   "cell_type": "markdown",
   "id": "28b9eb28-eef4-4539-bd5b-f08c5be34840",
   "metadata": {},
   "source": [
    "hstack is concacating to array as horizotaliy the 1d array as input to long 1d array as output, firts axis = 1"
   ]
  },
  {
   "cell_type": "code",
   "execution_count": 59,
   "id": "ea79f7ad-43e1-47d9-96a1-d1fdd0bcce98",
   "metadata": {},
   "outputs": [
    {
     "data": {
      "text/plain": [
       "array([1., 2., 3., 4., 5., 6., 7., 8.])"
      ]
     },
     "execution_count": 59,
     "metadata": {},
     "output_type": "execute_result"
    }
   ],
   "source": [
    "out = np.hstack((arr1,arr2),dtype = float)\n",
    "out"
   ]
  },
  {
   "cell_type": "code",
   "execution_count": 61,
   "id": "bc721861-580e-4986-934b-d9cd0b10f73f",
   "metadata": {},
   "outputs": [],
   "source": [
    "import random"
   ]
  },
  {
   "cell_type": "code",
   "execution_count": null,
   "id": "f12ddcf8-0228-41c8-ae8a-d430e7ed0e96",
   "metadata": {},
   "outputs": [],
   "source": [
    "# 8. Explain the differences between fliplr() and flipud() methods in NumPy, including their effects on various array dimensions."
   ]
  },
  {
   "cell_type": "markdown",
   "id": "3941e22a-7a0d-4d05-a58e-8720deb0d0ae",
   "metadata": {},
   "source": [
    "fliplr >> used to flip 2d array horizontally means it reverse the order of the column left to right,axis = 1"
   ]
  },
  {
   "cell_type": "code",
   "execution_count": 71,
   "id": "f4c3f03a-1087-475b-87dd-43c60c7cfbbd",
   "metadata": {},
   "outputs": [
    {
     "data": {
      "text/plain": [
       "array([[4, 1, 3],\n",
       "       [7, 4, 2],\n",
       "       [4, 4, 5]])"
      ]
     },
     "execution_count": 71,
     "metadata": {},
     "output_type": "execute_result"
    }
   ],
   "source": [
    "arrr = np.random.randint(1,8,(3,3))\n",
    "arrr"
   ]
  },
  {
   "cell_type": "code",
   "execution_count": 75,
   "id": "039b83c6-3930-4c5d-8d53-589773b88e68",
   "metadata": {},
   "outputs": [
    {
     "data": {
      "text/plain": [
       "array([[3, 1, 4],\n",
       "       [2, 4, 7],\n",
       "       [5, 4, 4]])"
      ]
     },
     "execution_count": 75,
     "metadata": {},
     "output_type": "execute_result"
    }
   ],
   "source": [
    "np.fliplr(arrr)"
   ]
  },
  {
   "cell_type": "markdown",
   "id": "7e10ca91-9fe3-42ca-a045-da6444223a11",
   "metadata": {},
   "source": [
    "flipud>> used to flip the 2d array in vertically means reverse the order of row up to down,axis = 0 "
   ]
  },
  {
   "cell_type": "code",
   "execution_count": 80,
   "id": "213064fa-e907-4863-80dc-7592a475cc84",
   "metadata": {},
   "outputs": [
    {
     "data": {
      "text/plain": [
       "array([[4, 1, 3],\n",
       "       [7, 4, 2],\n",
       "       [4, 4, 5]])"
      ]
     },
     "execution_count": 80,
     "metadata": {},
     "output_type": "execute_result"
    }
   ],
   "source": [
    "arrr"
   ]
  },
  {
   "cell_type": "code",
   "execution_count": 82,
   "id": "1b19553e-960f-478c-9786-74757377a8a5",
   "metadata": {},
   "outputs": [
    {
     "data": {
      "text/plain": [
       "array([[4, 4, 5],\n",
       "       [7, 4, 2],\n",
       "       [4, 1, 3]])"
      ]
     },
     "execution_count": 82,
     "metadata": {},
     "output_type": "execute_result"
    }
   ],
   "source": [
    "np.flipud(arrr)"
   ]
  },
  {
   "cell_type": "code",
   "execution_count": 84,
   "id": "939319a5-46f6-404c-bca9-c4eda4066020",
   "metadata": {},
   "outputs": [],
   "source": [
    "# 9. Discuss the functionality of the array_split() method in NumPy. How does it handle uneven splits?"
   ]
  },
  {
   "cell_type": "code",
   "execution_count": 86,
   "id": "37298cbf-c523-4e0f-956b-8e8046a0cd0e",
   "metadata": {},
   "outputs": [
    {
     "data": {
      "text/plain": [
       "array([1, 2, 3, 4, 5])"
      ]
     },
     "execution_count": 86,
     "metadata": {},
     "output_type": "execute_result"
    }
   ],
   "source": [
    "#used in split the array\n",
    "\n",
    "arr  =  np.array([1,2,3,4,5])\n",
    "arr"
   ]
  },
  {
   "cell_type": "code",
   "execution_count": 94,
   "id": "a593edd7-adf2-443c-a0c4-f85a92e601dc",
   "metadata": {},
   "outputs": [
    {
     "data": {
      "text/plain": [
       "[array([1, 2, 3]), array([4, 5])]"
      ]
     },
     "execution_count": 94,
     "metadata": {},
     "output_type": "execute_result"
    }
   ],
   "source": [
    "np.array_split(arr,2)"
   ]
  },
  {
   "cell_type": "code",
   "execution_count": 96,
   "id": "61f38a68-87db-41b6-8c44-8caa52c1a8fb",
   "metadata": {},
   "outputs": [
    {
     "data": {
      "text/plain": [
       "array([[1, 4, 5],\n",
       "       [1, 5, 1],\n",
       "       [4, 1, 4]])"
      ]
     },
     "execution_count": 96,
     "metadata": {},
     "output_type": "execute_result"
    }
   ],
   "source": [
    "arr2 = np.random.randint(1,6,(3,3))\n",
    "arr2"
   ]
  },
  {
   "cell_type": "code",
   "execution_count": 98,
   "id": "42eb5bbd-ad15-4420-826b-521ff8eb61d0",
   "metadata": {},
   "outputs": [
    {
     "data": {
      "text/plain": [
       "[array([[1],\n",
       "        [1],\n",
       "        [4]]),\n",
       " array([[4],\n",
       "        [5],\n",
       "        [1]]),\n",
       " array([[5],\n",
       "        [1],\n",
       "        [4]])]"
      ]
     },
     "execution_count": 98,
     "metadata": {},
     "output_type": "execute_result"
    }
   ],
   "source": [
    "np.array_split(arr2,3,axis = 1)"
   ]
  },
  {
   "cell_type": "code",
   "execution_count": 100,
   "id": "32ddf593-4407-494b-a00d-bdcddefda426",
   "metadata": {},
   "outputs": [],
   "source": [
    "# 10. Explain the concepts of vectorization and broadcasting in NumPy. How do they contribute to efficient array operations?"
   ]
  },
  {
   "cell_type": "raw",
   "id": "6592671d-99a4-4f43-a704-1df0b950116d",
   "metadata": {},
   "source": [
    "Broadcasting>>Broadcasting is a powerful feature in NumPy that allows arithmetic operations to be performed on arrays of different shapes in a way that avoids unnecessary data duplication. When performing operations on arrays, NumPy automatically expands the smaller array to match the shape of the larger one, without making actual copies of the data.\n",
    "Vectorization>>Vectorization refers to the process of applying operations to entire arrays (or vectors) at once, rather than iterating through elements using loops. This is one of the core principles behind NumPy's efficiency and speed."
   ]
  },
  {
   "cell_type": "markdown",
   "id": "cd5c81f9-ef4d-4b43-8ae7-e3043394cae1",
   "metadata": {},
   "source": [
    "Pratical Questions?"
   ]
  },
  {
   "cell_type": "code",
   "execution_count": 107,
   "id": "9e3e64b6-7d4c-4e88-a2be-c675c4d40c9b",
   "metadata": {},
   "outputs": [],
   "source": [
    "# 1. Create a 3x3 NumPy array with random integers between 1 and 100. Then, interchange its rows and columns."
   ]
  },
  {
   "cell_type": "code",
   "execution_count": 109,
   "id": "65c527cd-954d-40b5-bcb2-3f6378000824",
   "metadata": {},
   "outputs": [],
   "source": [
    "arr = np.random.randint(1,100,(3,3))"
   ]
  },
  {
   "cell_type": "code",
   "execution_count": 111,
   "id": "20582484-8ee4-4837-8c12-f6f31a4c2904",
   "metadata": {},
   "outputs": [
    {
     "data": {
      "text/plain": [
       "array([[23, 91, 35],\n",
       "       [81,  3, 93],\n",
       "       [12, 55,  9]])"
      ]
     },
     "execution_count": 111,
     "metadata": {},
     "output_type": "execute_result"
    }
   ],
   "source": [
    "arr"
   ]
  },
  {
   "cell_type": "code",
   "execution_count": 113,
   "id": "78bd107b-5b6e-430f-ab5a-d20d02f94ef3",
   "metadata": {},
   "outputs": [
    {
     "data": {
      "text/plain": [
       "array([[23, 81, 12],\n",
       "       [91,  3, 55],\n",
       "       [35, 93,  9]])"
      ]
     },
     "execution_count": 113,
     "metadata": {},
     "output_type": "execute_result"
    }
   ],
   "source": [
    "#transpose\n",
    "arr.T"
   ]
  },
  {
   "cell_type": "code",
   "execution_count": 115,
   "id": "090fb5ad-e451-4195-9bd3-7eb84bf171e8",
   "metadata": {},
   "outputs": [],
   "source": [
    "# 2. Generate a 1D NumPy array with 10 elements. Reshape it into a 2x5 array, then into a 5x2 array."
   ]
  },
  {
   "cell_type": "code",
   "execution_count": 117,
   "id": "e5e10e29-1284-462b-beb0-eb756c4f479a",
   "metadata": {},
   "outputs": [
    {
     "data": {
      "text/plain": [
       "array([ 1,  2,  3,  4,  5,  6,  7,  8,  9, 10])"
      ]
     },
     "execution_count": 117,
     "metadata": {},
     "output_type": "execute_result"
    }
   ],
   "source": [
    "ar1  = np.array([1,2,3,4,5,6,7,8,9,10])\n",
    "ar1"
   ]
  },
  {
   "cell_type": "code",
   "execution_count": 121,
   "id": "6ad0c2e2-077e-4996-b3e1-cb7314792bf8",
   "metadata": {},
   "outputs": [
    {
     "data": {
      "text/plain": [
       "array([[ 1,  2],\n",
       "       [ 3,  4],\n",
       "       [ 5,  6],\n",
       "       [ 7,  8],\n",
       "       [ 9, 10]])"
      ]
     },
     "execution_count": 121,
     "metadata": {},
     "output_type": "execute_result"
    }
   ],
   "source": [
    "ar1.reshape((5,2))"
   ]
  },
  {
   "cell_type": "code",
   "execution_count": 123,
   "id": "39a6ad23-d943-4397-a544-108b00cef590",
   "metadata": {},
   "outputs": [
    {
     "data": {
      "text/plain": [
       "array([[ 1,  2,  3,  4,  5],\n",
       "       [ 6,  7,  8,  9, 10]])"
      ]
     },
     "execution_count": 123,
     "metadata": {},
     "output_type": "execute_result"
    }
   ],
   "source": [
    "ar1.reshape(2,5)"
   ]
  },
  {
   "cell_type": "code",
   "execution_count": 125,
   "id": "fe0a50c0-2a34-4003-b72e-d98c2d1e3342",
   "metadata": {},
   "outputs": [],
   "source": [
    "# 3. Create a 4x4 NumPy array with random float values. Add a border of zeros around it, resulting in a 6x6 array."
   ]
  },
  {
   "cell_type": "code",
   "execution_count": 144,
   "id": "d3f12584-3fd6-4ce8-94a3-ec0f83d0c114",
   "metadata": {},
   "outputs": [],
   "source": [
    "ar = np.random.rand(4,4)"
   ]
  },
  {
   "cell_type": "code",
   "execution_count": 146,
   "id": "c27d7d9c-ab7c-44f6-8ff9-3220b2d95394",
   "metadata": {},
   "outputs": [
    {
     "data": {
      "text/plain": [
       "array([[0.55701742, 0.62806137, 0.54117818, 0.42176617],\n",
       "       [0.98607102, 0.83687832, 0.4825165 , 0.92013097],\n",
       "       [0.65349173, 0.6525173 , 0.06617422, 0.45056595],\n",
       "       [0.8320509 , 0.5448343 , 0.32946052, 0.57207705]])"
      ]
     },
     "execution_count": 146,
     "metadata": {},
     "output_type": "execute_result"
    }
   ],
   "source": [
    "ar"
   ]
  },
  {
   "cell_type": "code",
   "execution_count": 162,
   "id": "6989a0f9-828c-44c2-9ff3-c380c65a10d9",
   "metadata": {},
   "outputs": [],
   "source": [
    "#using padding "
   ]
  },
  {
   "cell_type": "code",
   "execution_count": 177,
   "id": "28aae24b-747f-4a68-9137-046561c3a9de",
   "metadata": {},
   "outputs": [
    {
     "data": {
      "text/plain": [
       "array([[0.        , 0.        , 0.        , 0.        , 0.        ,\n",
       "        0.        ],\n",
       "       [0.        , 0.55701742, 0.62806137, 0.54117818, 0.42176617,\n",
       "        0.        ],\n",
       "       [0.        , 0.98607102, 0.83687832, 0.4825165 , 0.92013097,\n",
       "        0.        ],\n",
       "       [0.        , 0.65349173, 0.6525173 , 0.06617422, 0.45056595,\n",
       "        0.        ],\n",
       "       [0.        , 0.8320509 , 0.5448343 , 0.32946052, 0.57207705,\n",
       "        0.        ],\n",
       "       [0.        , 0.        , 0.        , 0.        , 0.        ,\n",
       "        0.        ]])"
      ]
     },
     "execution_count": 177,
     "metadata": {},
     "output_type": "execute_result"
    }
   ],
   "source": [
    "np.pad(ar,pad_width = 1 , mode = \"constant\",constant_values = 0)"
   ]
  },
  {
   "cell_type": "code",
   "execution_count": 179,
   "id": "d95da85b-4fe6-4cf7-8038-2bbac3e7f625",
   "metadata": {},
   "outputs": [],
   "source": [
    "# 4. Using NumPy, create an array of integers from 10 to 60 with a step of 5."
   ]
  },
  {
   "cell_type": "code",
   "execution_count": 181,
   "id": "041143f9-b30f-4ac9-9bc3-46092424a9b7",
   "metadata": {},
   "outputs": [
    {
     "data": {
      "text/plain": [
       "array([10, 15, 20, 25, 30, 35, 40, 45, 50, 55])"
      ]
     },
     "execution_count": 181,
     "metadata": {},
     "output_type": "execute_result"
    }
   ],
   "source": [
    "np.arange(10,60,5)"
   ]
  },
  {
   "cell_type": "code",
   "execution_count": 183,
   "id": "3fb652eb-e5ba-4929-b8f3-7d3ad620b8b0",
   "metadata": {},
   "outputs": [],
   "source": [
    "# 5. Create a NumPy array of strings ['python', 'numpy', 'pandas']. Apply different case transformations (uppercase, lowercase, title case, etc.) to each element."
   ]
  },
  {
   "cell_type": "code",
   "execution_count": 185,
   "id": "f14a78f9-b12b-4350-851e-a8962709c77b",
   "metadata": {},
   "outputs": [],
   "source": [
    "arr = np.array([\"python\",\"numpy\",\"pandas\"])"
   ]
  },
  {
   "cell_type": "code",
   "execution_count": 187,
   "id": "c7f6cb83-9d3f-4597-9ce7-215d5a11d4be",
   "metadata": {},
   "outputs": [
    {
     "data": {
      "text/plain": [
       "dtype('<U6')"
      ]
     },
     "execution_count": 187,
     "metadata": {},
     "output_type": "execute_result"
    }
   ],
   "source": [
    "arr.dtype"
   ]
  },
  {
   "cell_type": "code",
   "execution_count": 195,
   "id": "b97ad85c-8485-4f1d-ade8-6ad8a6b2d6bc",
   "metadata": {},
   "outputs": [
    {
     "data": {
      "text/plain": [
       "array(['PYTHON', 'NUMPY', 'PANDAS'], dtype='<U6')"
      ]
     },
     "execution_count": 195,
     "metadata": {},
     "output_type": "execute_result"
    }
   ],
   "source": [
    "np.char.upper(arr)"
   ]
  },
  {
   "cell_type": "code",
   "execution_count": 199,
   "id": "fb6db8f9-8569-459b-9b19-ed60a9feb29d",
   "metadata": {},
   "outputs": [
    {
     "data": {
      "text/plain": [
       "array(['python', 'numpy', 'pandas'], dtype='<U6')"
      ]
     },
     "execution_count": 199,
     "metadata": {},
     "output_type": "execute_result"
    }
   ],
   "source": [
    "np.char.lower(arr)"
   ]
  },
  {
   "cell_type": "code",
   "execution_count": 201,
   "id": "5e9b09eb-cab5-41c0-86ca-7249a9d0d3d0",
   "metadata": {},
   "outputs": [
    {
     "data": {
      "text/plain": [
       "array(['Python', 'Numpy', 'Pandas'], dtype='<U6')"
      ]
     },
     "execution_count": 201,
     "metadata": {},
     "output_type": "execute_result"
    }
   ],
   "source": [
    "np.char.title(arr)"
   ]
  },
  {
   "cell_type": "code",
   "execution_count": 203,
   "id": "a6a79129-45e5-4baf-8c70-2e38ca6b7414",
   "metadata": {},
   "outputs": [],
   "source": [
    "# 6. Generate a NumPy array of words. Insert a space between each character of every word in the array."
   ]
  },
  {
   "cell_type": "code",
   "execution_count": 9,
   "id": "5818934f-217b-46c8-b5e4-989f985c8091",
   "metadata": {},
   "outputs": [],
   "source": [
    "import numpy as np\n",
    "word = np.array([\"hello\",\"how\",\"are\",\"you\"])"
   ]
  },
  {
   "cell_type": "code",
   "execution_count": 11,
   "id": "ac59ea85-b77b-4a9e-8a74-6a774420a384",
   "metadata": {},
   "outputs": [
    {
     "data": {
      "text/plain": [
       "array(['hello', 'how', 'are', 'you'], dtype='<U5')"
      ]
     },
     "execution_count": 11,
     "metadata": {},
     "output_type": "execute_result"
    }
   ],
   "source": [
    "word"
   ]
  },
  {
   "cell_type": "code",
   "execution_count": 15,
   "id": "454922dd-3496-49d7-932a-42f13bfe24b5",
   "metadata": {},
   "outputs": [],
   "source": [
    "y = []"
   ]
  },
  {
   "cell_type": "code",
   "execution_count": 17,
   "id": "f0e66855-1cd5-4568-a7b9-f156c2196ada",
   "metadata": {},
   "outputs": [
    {
     "data": {
      "text/plain": [
       "['h e l l o', 'h o w', 'a r e', 'y o u']"
      ]
     },
     "execution_count": 17,
     "metadata": {},
     "output_type": "execute_result"
    }
   ],
   "source": [
    "for i in x:\n",
    "    y.append(\" \".join(i))\n",
    "y"
   ]
  },
  {
   "cell_type": "code",
   "execution_count": 19,
   "id": "e6963584-11c6-4cc9-be2d-c30da7e9527a",
   "metadata": {},
   "outputs": [],
   "source": [
    "spaced_array = np.array(y)"
   ]
  },
  {
   "cell_type": "code",
   "execution_count": 21,
   "id": "7b8c59bc-5ca2-4806-8686-36bfb3cc5522",
   "metadata": {},
   "outputs": [
    {
     "data": {
      "text/plain": [
       "array(['h e l l o', 'h o w', 'a r e', 'y o u'], dtype='<U9')"
      ]
     },
     "execution_count": 21,
     "metadata": {},
     "output_type": "execute_result"
    }
   ],
   "source": [
    "spaced_array"
   ]
  },
  {
   "cell_type": "code",
   "execution_count": null,
   "id": "31507777-fb52-4b9a-ab42-8d09c4e8bd68",
   "metadata": {},
   "outputs": [],
   "source": [
    "# 7. Create two 2D NumPy arrays and perform element-wise addition, subtraction, multiplication, and division."
   ]
  },
  {
   "cell_type": "code",
   "execution_count": 6,
   "id": "aa5e0aad-7925-4845-9f0f-0d6616384a59",
   "metadata": {},
   "outputs": [],
   "source": [
    "import numpy as np\n",
    "import random"
   ]
  },
  {
   "cell_type": "code",
   "execution_count": 10,
   "id": "85a43301-7690-43b4-b52b-ef128f1ed049",
   "metadata": {},
   "outputs": [
    {
     "data": {
      "text/plain": [
       "array([[5, 2, 1],\n",
       "       [4, 6, 4],\n",
       "       [7, 8, 1]])"
      ]
     },
     "execution_count": 10,
     "metadata": {},
     "output_type": "execute_result"
    }
   ],
   "source": [
    "ar1 = np.random.randint(1,9,(3,3))\n",
    "ar1"
   ]
  },
  {
   "cell_type": "code",
   "execution_count": 12,
   "id": "022bea08-e3eb-45e6-b446-ce4f6820b007",
   "metadata": {},
   "outputs": [
    {
     "data": {
      "text/plain": [
       "array([[4, 1, 1],\n",
       "       [2, 3, 5],\n",
       "       [4, 5, 5]])"
      ]
     },
     "execution_count": 12,
     "metadata": {},
     "output_type": "execute_result"
    }
   ],
   "source": [
    "ar2 = np.random.randint(1,6,(3,3))\n",
    "ar2"
   ]
  },
  {
   "cell_type": "code",
   "execution_count": 24,
   "id": "e3f6bb1a-9090-4785-99ef-6f449c1eb8ac",
   "metadata": {},
   "outputs": [
    {
     "data": {
      "text/plain": [
       "array([[ 9,  3,  2],\n",
       "       [ 6,  9,  9],\n",
       "       [11, 13,  6]])"
      ]
     },
     "execution_count": 24,
     "metadata": {},
     "output_type": "execute_result"
    }
   ],
   "source": [
    "#addition\n",
    "ar1+ar2 #or np.add(ar1,ar2)"
   ]
  },
  {
   "cell_type": "code",
   "execution_count": 28,
   "id": "a4d51181-9c2b-468e-af1c-342889b324b4",
   "metadata": {},
   "outputs": [
    {
     "data": {
      "text/plain": [
       "array([[ 1,  1,  0],\n",
       "       [ 2,  3, -1],\n",
       "       [ 3,  3, -4]])"
      ]
     },
     "execution_count": 28,
     "metadata": {},
     "output_type": "execute_result"
    }
   ],
   "source": [
    "#substract\n",
    "np.subtract(ar1,ar2)"
   ]
  },
  {
   "cell_type": "code",
   "execution_count": 36,
   "id": "d2f708c9-c734-4023-8a83-9be34ee89ac1",
   "metadata": {},
   "outputs": [
    {
     "data": {
      "text/plain": [
       "array([[20,  2,  1],\n",
       "       [ 8, 18, 20],\n",
       "       [28, 40,  5]])"
      ]
     },
     "execution_count": 36,
     "metadata": {},
     "output_type": "execute_result"
    }
   ],
   "source": [
    "#multiplication\n",
    "np.multiply(ar1,ar2) #ar1 * ar2"
   ]
  },
  {
   "cell_type": "code",
   "execution_count": 40,
   "id": "a541920c-3b69-4da9-a1da-597fc7702526",
   "metadata": {},
   "outputs": [
    {
     "data": {
      "text/plain": [
       "array([[1.25, 2.  , 1.  ],\n",
       "       [2.  , 2.  , 0.8 ],\n",
       "       [1.75, 1.6 , 0.2 ]])"
      ]
     },
     "execution_count": 40,
     "metadata": {},
     "output_type": "execute_result"
    }
   ],
   "source": [
    "#divide\n",
    "np.divide(ar1,ar2)"
   ]
  },
  {
   "cell_type": "code",
   "execution_count": 53,
   "id": "44d3a82a-68ed-43f9-986d-12b34f551b6b",
   "metadata": {},
   "outputs": [],
   "source": [
    "# 8. Use NumPy to create a 5x5 identity matrix, then extract its diagonal elements."
   ]
  },
  {
   "cell_type": "code",
   "execution_count": 65,
   "id": "f46ef1e9-65b8-4132-883f-e1ee49b08bc2",
   "metadata": {},
   "outputs": [],
   "source": [
    "ident = np.eye(5,5,dtype = int)"
   ]
  },
  {
   "cell_type": "code",
   "execution_count": 67,
   "id": "b1853c33-a8f6-46f4-ba31-0db51c3c02f9",
   "metadata": {},
   "outputs": [
    {
     "data": {
      "text/plain": [
       "array([[1, 0, 0, 0, 0],\n",
       "       [0, 1, 0, 0, 0],\n",
       "       [0, 0, 1, 0, 0],\n",
       "       [0, 0, 0, 1, 0],\n",
       "       [0, 0, 0, 0, 1]])"
      ]
     },
     "execution_count": 67,
     "metadata": {},
     "output_type": "execute_result"
    }
   ],
   "source": [
    "ident"
   ]
  },
  {
   "cell_type": "code",
   "execution_count": 71,
   "id": "66233237-ff0f-4f48-8d4f-8f05140277e5",
   "metadata": {},
   "outputs": [
    {
     "data": {
      "text/plain": [
       "array([1, 1, 1, 1, 1])"
      ]
     },
     "execution_count": 71,
     "metadata": {},
     "output_type": "execute_result"
    }
   ],
   "source": [
    "ident[[0,1,2,3,4],[0,1,2,3,4]]"
   ]
  },
  {
   "cell_type": "code",
   "execution_count": 75,
   "id": "db3d1bc2-13aa-46a6-956f-879eca238d0c",
   "metadata": {},
   "outputs": [
    {
     "data": {
      "text/plain": [
       "5"
      ]
     },
     "execution_count": 75,
     "metadata": {},
     "output_type": "execute_result"
    }
   ],
   "source": [
    "np.count_nonzero(ident)"
   ]
  },
  {
   "cell_type": "code",
   "execution_count": 77,
   "id": "1fc4af56-e6d4-49cb-a386-948600707bf6",
   "metadata": {},
   "outputs": [],
   "source": [
    "# 9. Generate a NumPy array of 100 random integers between 0 and 1000. Find and display all prime numbers in this array."
   ]
  },
  {
   "cell_type": "code",
   "execution_count": 110,
   "id": "bfd155b7-8363-4698-8d7d-8e6e011a62f9",
   "metadata": {},
   "outputs": [],
   "source": [
    "arr = np.random.randint(0,1000,size = 100)"
   ]
  },
  {
   "cell_type": "code",
   "execution_count": 112,
   "id": "b757d625-e85c-454a-89f8-8a5b475f54ad",
   "metadata": {},
   "outputs": [
    {
     "data": {
      "text/plain": [
       "array([771, 777, 513, 819, 383, 958,  16, 439,  20, 528, 491, 787, 324,\n",
       "       632, 146, 651,   6, 639, 772, 369, 860, 178, 743, 333, 285, 349,\n",
       "       333, 342, 348, 630, 201, 922, 379, 455, 793, 779,  72, 177, 703,\n",
       "       452, 666, 244, 927, 731, 751, 815, 803, 125, 660, 782, 566, 273,\n",
       "       843, 298, 995, 452, 118,  41,  25, 981, 945, 835, 360, 315, 702,\n",
       "       272,  29, 354, 282, 378, 917, 779, 377, 387, 748,  97, 865, 883,\n",
       "       702,  90, 247, 743, 748,  57, 554, 829, 736, 808, 635, 329, 183,\n",
       "       165,  29, 460, 288, 422, 622, 218, 170, 846])"
      ]
     },
     "execution_count": 112,
     "metadata": {},
     "output_type": "execute_result"
    }
   ],
   "source": [
    "arr"
   ]
  },
  {
   "cell_type": "code",
   "execution_count": 114,
   "id": "a29d37db-fd3e-44e0-be79-646192b7201e",
   "metadata": {},
   "outputs": [
    {
     "data": {
      "text/plain": [
       "100"
      ]
     },
     "execution_count": 114,
     "metadata": {},
     "output_type": "execute_result"
    }
   ],
   "source": [
    "arr.size"
   ]
  },
  {
   "cell_type": "code",
   "execution_count": 130,
   "id": "71887c6e-3833-4d12-84c3-3c15a96eccdc",
   "metadata": {},
   "outputs": [],
   "source": [
    "def is_prime(n):\n",
    "    if n < 2:\n",
    "        return False\n",
    "    for i in range(2, int(n**0.5) + 1):\n",
    "        if n % i == 0:\n",
    "            return False\n",
    "        return True\n",
    "\n",
    "prime_numbers = [n for n in arr if is_prime(n)]"
   ]
  },
  {
   "cell_type": "code",
   "execution_count": 134,
   "id": "49cbf286-abad-4af0-bb15-51ee5f498096",
   "metadata": {},
   "outputs": [
    {
     "name": "stdout",
     "output_type": "stream",
     "text": [
      "[771, 777, 513, 819, 383, 439, 491, 787, 651, 639, 369, 743, 333, 285, 349, 333, 201, 379, 455, 793, 779, 177, 703, 927, 731, 751, 815, 803, 125, 273, 843, 995, 41, 25, 981, 945, 835, 315, 29, 917, 779, 377, 387, 97, 865, 883, 247, 743, 57, 829, 635, 329, 183, 165, 29]"
     ]
    }
   ],
   "source": [
    "print(prime_numbers,end = \"\")"
   ]
  },
  {
   "cell_type": "code",
   "execution_count": 136,
   "id": "7f9f63e7-7fbe-4d3d-aa85-bd90066e0cca",
   "metadata": {},
   "outputs": [],
   "source": [
    "#10. Create a NumPy array representing daily temperatures for a month. Calculate and display the weekly averages."
   ]
  },
  {
   "cell_type": "code",
   "execution_count": 165,
   "id": "2ac787d4-7322-4f97-b92f-5f32a724c59c",
   "metadata": {},
   "outputs": [
    {
     "name": "stdout",
     "output_type": "stream",
     "text": [
      "weeekly temperature =  31.464285714285715\n"
     ]
    }
   ],
   "source": [
    "daily_temp = np.random.randint(20,41,size = 28)\n",
    "weekly_temp = daily_temp.reshape(4,7)\n",
    "weekly_avg = np.mean(weekly_temp)\n",
    "print(\"weeekly temperature = \",weekly_avg)\n"
   ]
  },
  {
   "cell_type": "code",
   "execution_count": null,
   "id": "ba1eab46-4b1f-442e-b90b-52798f3e206b",
   "metadata": {},
   "outputs": [],
   "source": []
  },
  {
   "cell_type": "code",
   "execution_count": null,
   "id": "6368076b-ae7d-4f9e-a12c-b20a4a4bb50e",
   "metadata": {},
   "outputs": [],
   "source": []
  }
 ],
 "metadata": {
  "kernelspec": {
   "display_name": "Python 3 (ipykernel)",
   "language": "python",
   "name": "python3"
  },
  "language_info": {
   "codemirror_mode": {
    "name": "ipython",
    "version": 3
   },
   "file_extension": ".py",
   "mimetype": "text/x-python",
   "name": "python",
   "nbconvert_exporter": "python",
   "pygments_lexer": "ipython3",
   "version": "3.10.8"
  }
 },
 "nbformat": 4,
 "nbformat_minor": 5
}
